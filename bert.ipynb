{
 "cells": [
  {
   "cell_type": "markdown",
   "metadata": {
    "id": "_Y6A-bYtNNnd"
   },
   "source": [
    "# Colab FAQ\n",
    "\n",
    "For some basic overview and features offered in Colab notebooks, check out: [Overview of Colaboratory Features](https://colab.research.google.com/notebooks/basic_features_overview.ipynb)\n",
    "\n",
    "You need to use the colab GPU for this assignment by selecting:\n",
    "\n",
    "> **Runtime**   →   **Change runtime type**   →   **Hardware Accelerator: GPU**"
   ]
  },
  {
   "cell_type": "markdown",
   "metadata": {
    "id": "3KSUpX1-P1uv"
   },
   "source": [
    "# Part 4: Fine-tuning pretrained language models\n",
    "\n",
    "Acknowledgement: This notebook is based on the code from https://mccormickml.com/2019/07/22/BERT-fine-tuning/. Credit to \n",
    "Chris McCormick and Nick Ryan."
   ]
  },
  {
   "cell_type": "markdown",
   "metadata": {
    "id": "l47jS3ifQJz3"
   },
   "source": [
    "## Background\n",
    "\n",
    "Fine-tuning BERT on our task of interest takes some setup. Although these steps are done for you, please take a moment to look through them and make sure you understand their purpose."
   ]
  },
  {
   "cell_type": "markdown",
   "metadata": {
    "id": "00GDvCJucnpv"
   },
   "source": [
    "Install the [HuggingFace Transformers](https://huggingface.co/docs/transformers/index) package that contains the pretrained BERT models.\n",
    "\n"
   ]
  },
  {
   "cell_type": "code",
   "execution_count": 1,
   "metadata": {
    "id": "7AIe26NRcuYZ"
   },
   "outputs": [
    {
     "name": "stdout",
     "output_type": "stream",
     "text": [
      "Collecting transformers\n",
      "  Downloading transformers-4.17.0-py3-none-any.whl (3.8 MB)\n",
      "\u001b[K     |████████████████████████████████| 3.8 MB 16.9 MB/s eta 0:00:01\n",
      "\u001b[?25hRequirement already satisfied: importlib-metadata in /home/maryamebr/anaconda3/envs/new-tf-gpu/lib/python3.7/site-packages (from transformers) (3.10.0)\n",
      "Requirement already satisfied: numpy>=1.17 in /home/maryamebr/anaconda3/envs/new-tf-gpu/lib/python3.7/site-packages (from transformers) (1.19.5)\n",
      "Collecting filelock\n",
      "  Downloading filelock-3.6.0-py3-none-any.whl (10.0 kB)\n",
      "Requirement already satisfied: packaging>=20.0 in /home/maryamebr/anaconda3/envs/new-tf-gpu/lib/python3.7/site-packages (from transformers) (20.9)\n",
      "Requirement already satisfied: regex!=2019.12.17 in /home/maryamebr/anaconda3/envs/new-tf-gpu/lib/python3.7/site-packages (from transformers) (2021.4.4)\n",
      "Collecting sacremoses\n",
      "  Downloading sacremoses-0.0.49-py3-none-any.whl (895 kB)\n",
      "\u001b[K     |████████████████████████████████| 895 kB 64.6 MB/s eta 0:00:01\n",
      "\u001b[?25hCollecting huggingface-hub<1.0,>=0.1.0\n",
      "  Downloading huggingface_hub-0.4.0-py3-none-any.whl (67 kB)\n",
      "\u001b[K     |████████████████████████████████| 67 kB 5.9 MB/s s eta 0:00:01\n",
      "\u001b[?25hRequirement already satisfied: requests in /home/maryamebr/anaconda3/envs/new-tf-gpu/lib/python3.7/site-packages (from transformers) (2.25.1)\n",
      "Requirement already satisfied: tqdm>=4.27 in /home/maryamebr/anaconda3/envs/new-tf-gpu/lib/python3.7/site-packages (from transformers) (4.61.1)\n",
      "Requirement already satisfied: pyyaml>=5.1 in /home/maryamebr/anaconda3/envs/new-tf-gpu/lib/python3.7/site-packages (from transformers) (6.0)\n",
      "Collecting tokenizers!=0.11.3,>=0.11.1\n",
      "  Downloading tokenizers-0.11.6-cp37-cp37m-manylinux_2_12_x86_64.manylinux2010_x86_64.whl (6.5 MB)\n",
      "\u001b[K     |████████████████████████████████| 6.5 MB 32.8 MB/s eta 0:00:01��███           | 4.3 MB 32.8 MB/s eta 0:00:01\n",
      "\u001b[?25hCollecting typing-extensions>=3.7.4.3\n",
      "  Using cached typing_extensions-4.1.1-py3-none-any.whl (26 kB)\n",
      "Requirement already satisfied: pyparsing>=2.0.2 in /home/maryamebr/anaconda3/envs/new-tf-gpu/lib/python3.7/site-packages (from packaging>=20.0->transformers) (2.4.7)\n",
      "Requirement already satisfied: zipp>=0.5 in /home/maryamebr/anaconda3/envs/new-tf-gpu/lib/python3.7/site-packages (from importlib-metadata->transformers) (3.4.1)\n",
      "Requirement already satisfied: idna<3,>=2.5 in /home/maryamebr/anaconda3/envs/new-tf-gpu/lib/python3.7/site-packages (from requests->transformers) (2.10)\n",
      "Requirement already satisfied: certifi>=2017.4.17 in /home/maryamebr/anaconda3/envs/new-tf-gpu/lib/python3.7/site-packages (from requests->transformers) (2021.5.30)\n",
      "Requirement already satisfied: urllib3<1.27,>=1.21.1 in /home/maryamebr/anaconda3/envs/new-tf-gpu/lib/python3.7/site-packages (from requests->transformers) (1.26.4)\n",
      "Requirement already satisfied: chardet<5,>=3.0.2 in /home/maryamebr/anaconda3/envs/new-tf-gpu/lib/python3.7/site-packages (from requests->transformers) (3.0.4)\n",
      "Requirement already satisfied: joblib in /home/maryamebr/anaconda3/envs/new-tf-gpu/lib/python3.7/site-packages (from sacremoses->transformers) (1.0.1)\n",
      "Requirement already satisfied: click in /home/maryamebr/anaconda3/envs/new-tf-gpu/lib/python3.7/site-packages (from sacremoses->transformers) (8.0.1)\n",
      "Requirement already satisfied: six in /home/maryamebr/anaconda3/envs/new-tf-gpu/lib/python3.7/site-packages (from sacremoses->transformers) (1.15.0)\n",
      "Installing collected packages: typing-extensions, filelock, tokenizers, sacremoses, huggingface-hub, transformers\n",
      "  Attempting uninstall: typing-extensions\n",
      "    Found existing installation: typing-extensions 3.7.4\n",
      "    Uninstalling typing-extensions-3.7.4:\n",
      "      Successfully uninstalled typing-extensions-3.7.4\n",
      "\u001b[31mERROR: pip's dependency resolver does not currently take into account all the packages that are installed. This behaviour is the source of the following dependency conflicts.\n",
      "tensorflow 2.4.1 requires gast==0.3.3, but you have gast 0.4.0 which is incompatible.\n",
      "tensorflow 2.4.1 requires grpcio~=1.32.0, but you have grpcio 1.34.1 which is incompatible.\n",
      "tensorflow 2.4.1 requires h5py~=2.10.0, but you have h5py 3.1.0 which is incompatible.\n",
      "tensorflow 2.4.1 requires tensorflow-estimator<2.5.0,>=2.4.0, but you have tensorflow-estimator 2.5.0 which is incompatible.\n",
      "tensorflow 2.4.1 requires typing-extensions~=3.7.4, but you have typing-extensions 4.1.1 which is incompatible.\n",
      "tensorflow-gpu 2.5.0 requires typing-extensions~=3.7.4, but you have typing-extensions 4.1.1 which is incompatible.\u001b[0m\n",
      "Successfully installed filelock-3.6.0 huggingface-hub-0.4.0 sacremoses-0.0.49 tokenizers-0.11.6 transformers-4.17.0 typing-extensions-4.1.1\n"
     ]
    }
   ],
   "source": [
    "!pip install --upgrade transformers"
   ]
  },
  {
   "cell_type": "markdown",
   "metadata": {
    "id": "p18ZuvMUcyQE"
   },
   "source": [
    "Set the random seeds for reproducibility."
   ]
  },
  {
   "cell_type": "code",
   "execution_count": 1,
   "metadata": {
    "id": "bkGc79g2c3DL"
   },
   "outputs": [],
   "source": [
    "import os\n",
    "import random\n",
    "\n",
    "import numpy as np\n",
    "import torch\n",
    "\n",
    "SEED = 42\n",
    "\n",
    "torch.manual_seed(SEED)\n",
    "torch.cuda.manual_seed_all(SEED)\n",
    "torch.backends.cudnn.deterministic = True\n",
    "torch.backends.cudnn.benchmark = False\n",
    "np.random.seed(SEED)\n",
    "random.seed(SEED)\n",
    "os.environ['PYTHONHASHSEED'] = str(SEED)"
   ]
  },
  {
   "cell_type": "markdown",
   "metadata": {
    "id": "IJynoDMfc6Tr"
   },
   "source": [
    "Run the following cells to download the verbal arithmetic dataset from the CSC413 webpage and load it into a `DataFrame`\n"
   ]
  },
  {
   "cell_type": "code",
   "execution_count": 3,
   "metadata": {
    "id": "DFvJibK2wEdP"
   },
   "outputs": [
    {
     "name": "stdout",
     "output_type": "stream",
     "text": [
      "Collecting wget\n",
      "  Downloading wget-3.2.zip (10 kB)\n",
      "Building wheels for collected packages: wget\n",
      "  Building wheel for wget (setup.py) ... \u001b[?25ldone\n",
      "\u001b[?25h  Created wheel for wget: filename=wget-3.2-py3-none-any.whl size=9680 sha256=84957d0177f866be0521d38ce3f6ff75502a2549849fe1e9a8c792b50379c93a\n",
      "  Stored in directory: /home/maryamebr/.cache/pip/wheels/a1/b6/7c/0e63e34eb06634181c63adacca38b79ff8f35c37e3c13e3c02\n",
      "Successfully built wget\n",
      "Installing collected packages: wget\n",
      "Successfully installed wget-3.2\n"
     ]
    }
   ],
   "source": [
    "!pip install wget"
   ]
  },
  {
   "cell_type": "code",
   "execution_count": 2,
   "metadata": {
    "id": "uN77phG-f3DY"
   },
   "outputs": [
    {
     "name": "stdout",
     "output_type": "stream",
     "text": [
      "Downloading verbal arithmetic dataset\n",
      "Already downloaded training data\n",
      "Already downloaded test data\n"
     ]
    }
   ],
   "source": [
    "import wget\n",
    "import os\n",
    "\n",
    "print('Downloading verbal arithmetic dataset')\n",
    "\n",
    "# The URL for the dataset zip file.\n",
    "url = 'https://csc413-uoft.github.io/2021/assets/misc/'\n",
    "\n",
    "# Download the file (if we haven't already)\n",
    "if not os.path.exists('./PA03_data_20_train.csv'):\n",
    "  wget.download(url + 'PA03_data_20_train.csv', './PA03_data_20_train.csv')\n",
    "  print('Done downloading training data')\n",
    "else:\n",
    "  print('Already downloaded training data')\n",
    "\n",
    "if not os.path.exists('./PA03_data_20_test.csv'):\n",
    "  wget.download(url + 'PA03_data_20_test.csv', './PA03_data_20_test.csv')\n",
    "  print('Done downloading test data')\n",
    "else:\n",
    "  print('Already downloaded test data')"
   ]
  },
  {
   "cell_type": "code",
   "execution_count": 3,
   "metadata": {
    "id": "ovSDN8kBf_zF"
   },
   "outputs": [
    {
     "name": "stdout",
     "output_type": "stream",
     "text": [
      "Number of data points:  640\n"
     ]
    },
    {
     "data": {
      "text/html": [
       "<div>\n",
       "<style scoped>\n",
       "    .dataframe tbody tr th:only-of-type {\n",
       "        vertical-align: middle;\n",
       "    }\n",
       "\n",
       "    .dataframe tbody tr th {\n",
       "        vertical-align: top;\n",
       "    }\n",
       "\n",
       "    .dataframe thead th {\n",
       "        text-align: right;\n",
       "    }\n",
       "</style>\n",
       "<table border=\"1\" class=\"dataframe\">\n",
       "  <thead>\n",
       "    <tr style=\"text-align: right;\">\n",
       "      <th></th>\n",
       "      <th>index</th>\n",
       "      <th>input</th>\n",
       "      <th>label</th>\n",
       "    </tr>\n",
       "  </thead>\n",
       "  <tbody>\n",
       "    <tr>\n",
       "      <th>20</th>\n",
       "      <td>264</td>\n",
       "      <td>thirteen plus four</td>\n",
       "      <td>2</td>\n",
       "    </tr>\n",
       "    <tr>\n",
       "      <th>180</th>\n",
       "      <td>712</td>\n",
       "      <td>fifteen minus twelve</td>\n",
       "      <td>2</td>\n",
       "    </tr>\n",
       "    <tr>\n",
       "      <th>270</th>\n",
       "      <td>327</td>\n",
       "      <td>sixteen plus seven</td>\n",
       "      <td>2</td>\n",
       "    </tr>\n",
       "    <tr>\n",
       "      <th>221</th>\n",
       "      <td>58</td>\n",
       "      <td>two plus eighteen</td>\n",
       "      <td>2</td>\n",
       "    </tr>\n",
       "    <tr>\n",
       "      <th>542</th>\n",
       "      <td>646</td>\n",
       "      <td>twelve minus six</td>\n",
       "      <td>2</td>\n",
       "    </tr>\n",
       "    <tr>\n",
       "      <th>143</th>\n",
       "      <td>626</td>\n",
       "      <td>eleven minus six</td>\n",
       "      <td>2</td>\n",
       "    </tr>\n",
       "    <tr>\n",
       "      <th>247</th>\n",
       "      <td>759</td>\n",
       "      <td>seventeen minus nineteen</td>\n",
       "      <td>0</td>\n",
       "    </tr>\n",
       "    <tr>\n",
       "      <th>467</th>\n",
       "      <td>691</td>\n",
       "      <td>fourteen minus eleven</td>\n",
       "      <td>2</td>\n",
       "    </tr>\n",
       "    <tr>\n",
       "      <th>283</th>\n",
       "      <td>372</td>\n",
       "      <td>eighteen plus twelve</td>\n",
       "      <td>2</td>\n",
       "    </tr>\n",
       "    <tr>\n",
       "      <th>259</th>\n",
       "      <td>274</td>\n",
       "      <td>thirteen plus fourteen</td>\n",
       "      <td>2</td>\n",
       "    </tr>\n",
       "  </tbody>\n",
       "</table>\n",
       "</div>"
      ],
      "text/plain": [
       "     index                     input  label\n",
       "20     264        thirteen plus four      2\n",
       "180    712      fifteen minus twelve      2\n",
       "270    327        sixteen plus seven      2\n",
       "221     58         two plus eighteen      2\n",
       "542    646          twelve minus six      2\n",
       "143    626          eleven minus six      2\n",
       "247    759  seventeen minus nineteen      0\n",
       "467    691     fourteen minus eleven      2\n",
       "283    372      eighteen plus twelve      2\n",
       "259    274    thirteen plus fourteen      2"
      ]
     },
     "execution_count": 3,
     "metadata": {},
     "output_type": "execute_result"
    }
   ],
   "source": [
    "import pandas as pd\n",
    "\n",
    "df = pd.read_csv(\"./PA03_data_20_train.csv\", header=0, names=[\"index\", \"input\", \"label\"])\n",
    "\n",
    "print(\"Number of data points: \", df.shape[0])\n",
    "sampled = df.sample(10)\n",
    "# Display 10 random rows from the data.\n",
    "df.sample(10)"
   ]
  },
  {
   "cell_type": "markdown",
   "metadata": {
    "id": "oyNFphizgCiM"
   },
   "source": [
    "### Tokenizer\n",
    "\n",
    "To feed our text to BERT, it must be split into tokens, and then these tokens must be mapped to their index in the tokenizer vocabulary. For this we can use the `AutoTokenizer` from the `transformers` library.\n",
    "\n",
    "As mentioned in the assignment handout, we will use [MathBERT](https://arxiv.org/abs/2106.07340), which uses the same architecture as BERT, but has been pretrained on text from pre-kindergarten, high-school, and college graduate level mathematical content.\n"
   ]
  },
  {
   "cell_type": "code",
   "execution_count": 4,
   "metadata": {
    "id": "JazZH2kzgHF_"
   },
   "outputs": [],
   "source": [
    "from transformers import AutoTokenizer\n",
    "\n",
    "bert_tokenizer = AutoTokenizer.from_pretrained('tbs17/MathBERT', do_lower_case=True)"
   ]
  },
  {
   "cell_type": "code",
   "execution_count": 5,
   "metadata": {
    "id": "HwJi4x1sgYKX"
   },
   "outputs": [
    {
     "name": "stdout",
     "output_type": "stream",
     "text": [
      "Train data size  640\n",
      "* Original:   five minus twelve\n",
      "* Tokenized:  ['five', 'minus', 'twelve']\n",
      "* Token IDs:  [2274, 15718, 4376]\n"
     ]
    }
   ],
   "source": [
    "inputs = df.input.values\n",
    "labels = df.label.values\n",
    "print(\"Train data size \", len(inputs))\n",
    "print('* Original:  ', inputs[0])\n",
    "# Print the sentence split into tokens.\n",
    "print('* Tokenized: ', bert_tokenizer.tokenize(inputs[0]))\n",
    "# Print the sentence mapped to token ids.\n",
    "print('* Token IDs: ', bert_tokenizer.convert_tokens_to_ids(bert_tokenizer.tokenize(inputs[0])))"
   ]
  },
  {
   "cell_type": "markdown",
   "metadata": {
    "id": "4RenfgCJg4Fi"
   },
   "source": [
    "### Formatting the inputs\n",
    "\n",
    "In order to use BERT for fine-tuning, we need to format the inputs in a way that matches the inputs of the pretraining step. In short, we need to:\n",
    "\n",
    "1. Add special tokens to the start and end of each sentence.\n",
    "2. Pad & truncate all sentences to a single constant length.\n",
    "3. Explicitly differentiate real tokens from padding tokens with the \"attention mask\".\n"
   ]
  },
  {
   "cell_type": "markdown",
   "metadata": {
    "id": "pkWOVuJohI3q"
   },
   "source": [
    "#### Special Tokens\n",
    "\n",
    "**`[SEP]`**\n",
    "\n",
    "At the end of every sentence, we need to append the special `[SEP]` token. \n",
    "\n",
    "This token is an artifact of two-sentence tasks, where BERT is given two separate sentences and asked to determine something (e.g., can the answer to the question in sentence A be found in sentence B?). \n",
    "\n",
    "**`[CLS]`**\n",
    "\n",
    "For classification tasks, we must prepend the special `[CLS]` token to the beginning of every sentence.\n",
    "\n",
    "This token has special significance. BERT consists of 12 Transformer layers. Each transformer takes in a list of token embeddings, and produces the same number of embeddings on the output.\n",
    "\n",
    "On the output of the final transformer, *only the first embedding (corresponding to the [CLS] token) is used by the classifier*.\n",
    "\n",
    ">  \"The first token of every sequence is always a special classification token (`[CLS]`). The final hidden state\n",
    "corresponding to this token is used as the aggregate sequence representation for classification\n",
    "tasks.\" (from the [BERT paper](https://arxiv.org/pdf/1810.04805.pdf))\n",
    "\n",
    "Also, because BERT is trained to only use this [CLS] token for classification, we know that the model has been motivated to encode everything it needs for the classification step into that single 768-value embedding vector."
   ]
  },
  {
   "cell_type": "markdown",
   "metadata": {
    "id": "PrvaiOR2hAEH"
   },
   "source": [
    "#### Sentence Length & Attention Mask\n",
    "\n",
    "The sentences in our dataset obviously have varying lengths, so how does BERT handle this?\n",
    "\n",
    "BERT has two constraints:\n",
    "1. All sentences must be padded or truncated to a single, fixed length.\n",
    "2. The maximum sentence length is 512 tokens.\n",
    "\n",
    "Padding is done with a special `[PAD]` token, which is at index 0 in the BERT vocabulary. \n",
    "\n",
    "The \"Attention Mask\" is simply an array of 0s and 1s indicating which tokens are padding and which aren't.\n",
    "\n",
    "In our dataset, all sentences have three word tokens. However, we set the max length of sentence to 7 in this example to show what paddings will be in real world applications."
   ]
  },
  {
   "cell_type": "code",
   "execution_count": 6,
   "metadata": {
    "id": "irjbFrNapXjn"
   },
   "outputs": [
    {
     "name": "stdout",
     "output_type": "stream",
     "text": [
      "Padding token: \"[PAD]\", ID: 0\n"
     ]
    }
   ],
   "source": [
    "# Set the maximum sequence length.\n",
    "MAX_LEN = 7\n",
    "\n",
    "# Print BERTs special PAD token and its index in the vocabulary\n",
    "print(f'Padding token: \"{bert_tokenizer.pad_token}\", ID: {bert_tokenizer.pad_token_id}')"
   ]
  },
  {
   "cell_type": "markdown",
   "metadata": {
    "id": "E-jDt4i3hFea"
   },
   "source": [
    "Luckily, the `BertTokenizer` object from the transformers library makes it easy to preprocess our input text correctly\n"
   ]
  },
  {
   "cell_type": "code",
   "execution_count": 7,
   "metadata": {
    "id": "I3JJmMOdqeoO"
   },
   "outputs": [
    {
     "name": "stdout",
     "output_type": "stream",
     "text": [
      "Original:  tensor([  101,  2274, 15718,  4376,   102,     0,     0])\n",
      "* Token IDs: tensor([1, 1, 1, 1, 1, 0, 0])\n",
      "* Tokenized: [CLS] five minus twelve [SEP] [PAD] [PAD]\n",
      "* Attention_mask tensor([1, 1, 1, 1, 1, 0, 0])\n"
     ]
    }
   ],
   "source": [
    "tokenized_inputs = bert_tokenizer(\n",
    "    inputs.tolist(),          # Input text\n",
    "    add_special_tokens=True,  # add '[CLS]' and '[SEP]'\n",
    "    padding='max_length',     # pad to a length specified by the max_length\n",
    "    max_length=MAX_LEN,       # truncate all sentences longer than max_length\n",
    "    return_tensors='pt',      # return everything we need as PyTorch tensors\n",
    ")\n",
    "\n",
    "input_ids = tokenized_inputs['input_ids']\n",
    "attention_masks = tokenized_inputs['attention_mask']\n",
    "\n",
    "# Print sentence 0, now as a list of IDs.\n",
    "print('Original: ', tokenized_inputs['input_ids'][0])\n",
    "print('* Token IDs:', tokenized_inputs['attention_mask'][0])\n",
    "print('* Tokenized:', bert_tokenizer.decode(tokenized_inputs['input_ids'][0]))\n",
    "print('* Attention_mask', tokenized_inputs['attention_mask'][0])"
   ]
  },
  {
   "cell_type": "markdown",
   "metadata": {
    "id": "wCMCg2B-xHZU"
   },
   "source": [
    "### Training & Validation Split\n",
    "\n",
    "Let's divide up our data into a train set (80%) and a validation set (20%).\n",
    "\n",
    "We'also create an iterator for our dataset using the torch `DataLoader` class. This helps save on memory during training because, unlike a for loop, with an iterator the entire dataset does not need to be loaded into memory."
   ]
  },
  {
   "cell_type": "code",
   "execution_count": 8,
   "metadata": {
    "id": "O4WUEsPnxege"
   },
   "outputs": [],
   "source": [
    "from sklearn.model_selection import train_test_split\n",
    "import torch\n",
    "from torch.utils.data import TensorDataset, DataLoader, RandomSampler, SequentialSampler\n",
    "\n",
    "def train_valid_split(input_ids, attention_masks, labels, batch_size=32):\n",
    "    # Use 80% for training and 20% for validation.\n",
    "    train_inputs, validation_inputs,  train_masks, validation_masks, train_labels, validation_labels = train_test_split(\n",
    "        input_ids, attention_masks, labels, random_state=SEED, test_size=0.2, stratify=labels\n",
    "    )\n",
    "\n",
    "    print('example train_input:    ', train_inputs[0])\n",
    "    print('example attention_mask: ', train_masks[0])\n",
    "\n",
    "    train_labels = torch.tensor(train_labels)\n",
    "    validation_labels = torch.tensor(validation_labels)\n",
    "\n",
    "    # Create the DataLoader for our training set.\n",
    "    train_data = TensorDataset(train_inputs, train_masks, train_labels)\n",
    "    train_dataloader = DataLoader(train_data, shuffle=True, batch_size=batch_size)\n",
    "\n",
    "    # Create the DataLoader for our validation set.\n",
    "    validation_data = TensorDataset(validation_inputs, validation_masks, validation_labels)\n",
    "    validation_dataloader = DataLoader(validation_data, shuffle=False, batch_size=batch_size)\n",
    "\n",
    "    return train_dataloader, validation_dataloader"
   ]
  },
  {
   "cell_type": "code",
   "execution_count": 9,
   "metadata": {
    "id": "zW8M1GiAx14E"
   },
   "outputs": [
    {
     "name": "stdout",
     "output_type": "stream",
     "text": [
      "example train_input:     tensor([  101, 11977, 15718,  4376,   102,     0,     0])\n",
      "example attention_mask:  tensor([1, 1, 1, 1, 1, 0, 0])\n"
     ]
    }
   ],
   "source": [
    "bert_train_dataloader, bert_validation_dataloader = train_valid_split(\n",
    "    input_ids=input_ids,\n",
    "    attention_masks=attention_masks,\n",
    "    labels=labels,\n",
    "    batch_size=32\n",
    ")"
   ]
  },
  {
   "cell_type": "markdown",
   "metadata": {
    "id": "Vm_NPA-o0m3v"
   },
   "source": [
    "## Questions"
   ]
  },
  {
   "cell_type": "markdown",
   "metadata": {
    "id": "jkp-UJdO0xbF"
   },
   "source": [
    "### Question 1: Add a classifier to BERT [1pts]\n",
    "\n",
    "Here, we will add a simple classifier to the [BertModel](https://huggingface.co/docs/transformers/v4.16.2/en/model_doc/bert#transformers.BertModel) provided by the Transformers library.\n",
    "\n",
    "Your tasks are:\n",
    "\n",
    "1. In `__init__`, add a linear classifier that will map BERTs `[CLS]` token representation to the unnormalized output probabilities for each class (`logits`).\n",
    "2. In `forward`, pass BERTs `[CLS]` token representation to this new classifier to produce the `logits`.\n",
    "\n",
    "In total, you won't have to write more than three new lines of code. See the comments in the code for help!"
   ]
  },
  {
   "cell_type": "code",
   "execution_count": 10,
   "metadata": {
    "id": "RbG9zbiz05OT"
   },
   "outputs": [],
   "source": [
    "from transformers import BertModel\n",
    "import torch.nn as nn\n",
    "\n",
    "class BertForSentenceClassification(BertModel):\n",
    "    def __init__(self, config):\n",
    "        super().__init__(config)\n",
    "        \n",
    "        ##### START YOUR CODE HERE #####\n",
    "        # Add a linear classifier that map BERTs [CLS] token representation to the unnormalized\n",
    "        # output probabilities for each class (logits).\n",
    "        # Notes: \n",
    "        #  * See the documentation for torch.nn.Linear\n",
    "        #  * You do not need to add a softmax, as this is included in the loss function\n",
    "        #  * The size of BERTs token representation can be accessed at config.hidden_size\n",
    "        #  * The number of output classes can be accessed at config.num_labels\n",
    "        self.classifier = nn.Linear(config.hidden_size, config.num_labels)\n",
    "        ##### END YOUR CODE HERE #####\n",
    "        self.loss = torch.nn.CrossEntropyLoss()\n",
    "\n",
    "    def forward(self, labels=None, **kwargs):\n",
    "        outputs = super().forward(**kwargs)\n",
    "        ##### START YOUR CODE HERE #####\n",
    "        # Pass BERTs [CLS] token representation to this new classifier to produce the logits.\n",
    "        # Notes:\n",
    "        #  * The [CLS] token representation can be accessed at outputs.pooler_output\n",
    "        cls_token_repr = outputs.pooler_output\n",
    "        logits = self.classifier(cls_token_repr)\n",
    "        ##### END YOUR CODE HERE #####\n",
    "        if labels is not None:\n",
    "            outputs = (logits, self.loss(logits, labels))\n",
    "        else:\n",
    "            outputs = (logits,)\n",
    "        return outputs"
   ]
  },
  {
   "cell_type": "markdown",
   "metadata": {
    "id": "YmeBvaXY2Mcm"
   },
   "source": [
    "### Question 2: Fine-tune BERT [0pts]\n",
    "\n",
    "In this section, we will instantiate our pretrained BERT model + the new classifier, and train both on our verbal arithmetic dataset for a few epochs.\n",
    "\n",
    "As mentioned in the assignment handout, we will use [MathBERT](https://arxiv.org/abs/2106.07340), which uses the same architecture as BERT, but has been pretrained on text from pre-kindergarten, high-school, and college graduate level mathematical content.\n",
    "\n",
    "\n",
    "> Although the code is written for you, please read it first to understand what it is doing. Additionally, running this code and making sure the model can be fine-tuned helps you check your implementation from Question 1. __Note__: This may print a warning: _\"Some weights of the model checkpoint at...\"_ which you can ignore."
   ]
  },
  {
   "cell_type": "code",
   "execution_count": 11,
   "metadata": {
    "id": "IeM-sMbq3Tem"
   },
   "outputs": [
    {
     "name": "stderr",
     "output_type": "stream",
     "text": [
      "Some weights of the model checkpoint at tbs17/MathBERT were not used when initializing BertForSentenceClassification: ['cls.predictions.decoder.bias', 'cls.predictions.transform.LayerNorm.bias', 'cls.predictions.decoder.weight', 'cls.predictions.transform.LayerNorm.weight', 'cls.seq_relationship.bias', 'cls.predictions.bias', 'cls.seq_relationship.weight', 'cls.predictions.transform.dense.weight', 'cls.predictions.transform.dense.bias']\n",
      "- This IS expected if you are initializing BertForSentenceClassification from the checkpoint of a model trained on another task or with another architecture (e.g. initializing a BertForSequenceClassification model from a BertForPreTraining model).\n",
      "- This IS NOT expected if you are initializing BertForSentenceClassification from the checkpoint of a model that you expect to be exactly identical (initializing a BertForSequenceClassification model from a BertForSequenceClassification model).\n",
      "Some weights of BertForSentenceClassification were not initialized from the model checkpoint at tbs17/MathBERT and are newly initialized: ['bert.classifier.bias', 'bert.classifier.weight']\n",
      "You should probably TRAIN this model on a down-stream task to be able to use it for predictions and inference.\n"
     ]
    }
   ],
   "source": [
    "mathbert = BertForSentenceClassification.from_pretrained(\n",
    "    \"tbs17/MathBERT\",  # the name of the pretrained model\n",
    "    num_labels=3,      # the number of classes in our downstream task \n",
    ")"
   ]
  },
  {
   "cell_type": "markdown",
   "metadata": {
    "id": "6tbxRsT3zQ5A"
   },
   "source": [
    "The following cell prints information about the models parameters"
   ]
  },
  {
   "cell_type": "code",
   "execution_count": 12,
   "metadata": {
    "id": "hEuhZX6f3XiI"
   },
   "outputs": [
    {
     "name": "stdout",
     "output_type": "stream",
     "text": [
      "The BERT model has 201 different named parameters.\n",
      "\n",
      "==== Embedding Layer ====\n",
      "\n",
      "embeddings.word_embeddings.weight                       (30522, 768)\n",
      "embeddings.position_embeddings.weight                     (512, 768)\n",
      "embeddings.token_type_embeddings.weight                     (2, 768)\n",
      "embeddings.LayerNorm.weight                                   (768,)\n",
      "embeddings.LayerNorm.bias                                     (768,)\n",
      "\n",
      "==== First Transformer Layer ====\n",
      "\n",
      "encoder.layer.0.attention.self.query.weight               (768, 768)\n",
      "encoder.layer.0.attention.self.query.bias                     (768,)\n",
      "encoder.layer.0.attention.self.key.weight                 (768, 768)\n",
      "encoder.layer.0.attention.self.key.bias                       (768,)\n",
      "encoder.layer.0.attention.self.value.weight               (768, 768)\n",
      "encoder.layer.0.attention.self.value.bias                     (768,)\n",
      "encoder.layer.0.attention.output.dense.weight             (768, 768)\n",
      "encoder.layer.0.attention.output.dense.bias                   (768,)\n",
      "encoder.layer.0.attention.output.LayerNorm.weight             (768,)\n",
      "encoder.layer.0.attention.output.LayerNorm.bias               (768,)\n",
      "encoder.layer.0.intermediate.dense.weight                (3072, 768)\n",
      "encoder.layer.0.intermediate.dense.bias                      (3072,)\n",
      "encoder.layer.0.output.dense.weight                      (768, 3072)\n",
      "encoder.layer.0.output.dense.bias                             (768,)\n",
      "encoder.layer.0.output.LayerNorm.weight                       (768,)\n",
      "encoder.layer.0.output.LayerNorm.bias                         (768,)\n",
      "\n",
      "==== Output Layer ====\n",
      "\n",
      "pooler.dense.weight                                       (768, 768)\n",
      "pooler.dense.bias                                             (768,)\n",
      "classifier.weight                                           (3, 768)\n",
      "classifier.bias                                                 (3,)\n"
     ]
    }
   ],
   "source": [
    "# Model parameters visualization\n",
    "params = list(mathbert.named_parameters())\n",
    "\n",
    "print('The BERT model has {:} different named parameters.\\n'.format(len(params)))\n",
    "\n",
    "print('==== Embedding Layer ====\\n')\n",
    "\n",
    "for p in params[0:5]:\n",
    "    print(\"{:<55} {:>12}\".format(p[0], str(tuple(p[1].size()))))\n",
    "\n",
    "print('\\n==== First Transformer Layer ====\\n')\n",
    "\n",
    "for p in params[5:21]:\n",
    "    print(\"{:<55} {:>12}\".format(p[0], str(tuple(p[1].size()))))\n",
    "\n",
    "print('\\n==== Output Layer ====\\n')\n",
    "\n",
    "for p in params[-4:]:\n",
    "    print(\"{:<55} {:>12}\".format(p[0], str(tuple(p[1].size()))))"
   ]
  },
  {
   "cell_type": "markdown",
   "metadata": {
    "id": "-io5NMws3ckc"
   },
   "source": [
    "The next cell defines fairly standard train and evaluation loops in PyTorch"
   ]
  },
  {
   "cell_type": "code",
   "execution_count": 13,
   "metadata": {
    "id": "c_gVnpy13iqC"
   },
   "outputs": [],
   "source": [
    "from torch.optim import AdamW\n",
    "import time\n",
    "import datetime\n",
    "from transformers import get_linear_schedule_with_warmup\n",
    "from tqdm import tqdm\n",
    "\n",
    "def flat_accuracy(preds, labels):\n",
    "    pred_flat = np.argmax(preds, axis=1).flatten()\n",
    "    labels_flat = labels.flatten()\n",
    "    return np.sum(pred_flat == labels_flat) / len(labels_flat)\n",
    "\n",
    "def format_time(elapsed):\n",
    "    elapsed_rounded = int(round((elapsed)))\n",
    "    return str(datetime.timedelta(seconds=elapsed_rounded))\n",
    "\n",
    "def get_optimizer_and_scheduler(model, total_steps, lr=2e-5, weight_decay=0.01):\n",
    "    # Apply weight decay to all parameters beside the biases or LayerNorm weights\n",
    "    no_decay = ['bias', 'LayerNorm.weight']\n",
    "    optimizer_grouped_parameters = [\n",
    "        {\n",
    "            'params': [p for n, p in model.named_parameters() if not any(nd in n for nd in no_decay)],\n",
    "            'weight_decay': weight_decay},\n",
    "        {\n",
    "            'params': [p for n, p in model.named_parameters() if any(nd in n for nd in no_decay)],\n",
    "            'weight_decay': 0.0\n",
    "        }\n",
    "    ]\n",
    "    optimizer = AdamW(model.parameters(), lr=lr)\n",
    "    scheduler = get_linear_schedule_with_warmup(\n",
    "        optimizer,\n",
    "        # Warmup learning rate for first 10% of training steps\n",
    "        num_warmup_steps=int(0.10 * total_steps), \n",
    "        num_training_steps=total_steps,\n",
    "    )\n",
    "    return optimizer, scheduler\n",
    "\n",
    "def train_model(model, epochs, train_dataloader, validation_dataloader):\n",
    "    # Use GPU, if available\n",
    "    device = torch.device(\"cuda\" if torch.cuda.is_available() else \"cpu\")\n",
    "    model = model.to(device)\n",
    "\n",
    "    # Setup optimizer and LR scheduler \n",
    "    total_steps = len(train_dataloader) * epochs\n",
    "    optimizer, scheduler = get_optimizer_and_scheduler(\n",
    "        model, total_steps, lr=5e-5, weight_decay=0.01\n",
    "    )\n",
    "\n",
    "    loss_values = []\n",
    "    eval_accs = []\n",
    "\n",
    "    for epoch in range(0, epochs):\n",
    "        t0 = time.time()\n",
    "\n",
    "        total_loss = 0\n",
    "        model.train()\n",
    "\n",
    "        with tqdm(train_dataloader, unit=\"batch\") as train_pbar:\n",
    "            for batch in train_pbar:\n",
    "                train_pbar.set_description(f\"Training (epoch {epoch + 1})\")\n",
    "                b_input_ids = batch[0].to(device)\n",
    "                b_input_mask = batch[1].to(device)\n",
    "                b_labels = batch[2].to(device)\n",
    "\n",
    "                model.zero_grad()        \n",
    "\n",
    "                # Perform a forward pass (evaluate the model on this training batch).\n",
    "                # This will return the loss because we have provided the `labels`.\n",
    "                outputs = model(\n",
    "                    input_ids=b_input_ids, \n",
    "                    attention_mask=b_input_mask, \n",
    "                    labels=b_labels\n",
    "                )\n",
    "                \n",
    "                # The call to `model` always returns a tuple, so we need to pull the \n",
    "                # loss value out of the tuple.\n",
    "                _, loss = outputs\n",
    "\n",
    "                # Accumulate the training loss over all of the batches so that we can\n",
    "                # calculate the average loss at the end. `loss` is a Tensor containing a\n",
    "                # single value; the `.item()` function just returns the Python value \n",
    "                # from the tensor.\n",
    "                total_loss += loss.item()\n",
    "\n",
    "                # Perform a backward pass to calculate the gradients.\n",
    "                loss.backward()\n",
    "\n",
    "                # Clip the norm of the gradients to 1.0.\n",
    "                # This is to help prevent the \"exploding gradients\" problem.\n",
    "                torch.nn.utils.clip_grad_norm_(model.parameters(), 1.0)\n",
    "\n",
    "                # Update parameters and take a step using the computed gradient.\n",
    "                # The optimizer dictates the \"update rule\"--how the parameters are\n",
    "                # modified based on their gradients, the learning rate, etc.\n",
    "                optimizer.step()\n",
    "\n",
    "                # Update the learning rate.\n",
    "                scheduler.step()\n",
    "\n",
    "        # Calculate the average loss over the training data.\n",
    "        avg_train_loss = total_loss / len(train_dataloader)            \n",
    "        \n",
    "        # Store the loss value for plotting the learning curve.\n",
    "        loss_values.append(avg_train_loss)\n",
    "\n",
    "        print(\"  * Average training loss: {0:.2f}\".format(avg_train_loss))\n",
    "        print(\"  * Training epoch took: {:}\".format(format_time(time.time() - t0)))\n",
    "            \n",
    "        print(\"Running Validation...\")\n",
    "\n",
    "        t0 = time.time()\n",
    "        model.eval()\n",
    "\n",
    "        eval_loss, eval_accuracy = 0, 0\n",
    "        nb_eval_steps, nb_eval_examples = 0, 0\n",
    "\n",
    "        # Evaluate data for one epoch\n",
    "        for batch in validation_dataloader:\n",
    "            batch = tuple(t.to(device) for t in batch)\n",
    "            b_input_ids, b_input_mask, b_labels = batch\n",
    "            \n",
    "            with torch.no_grad():        \n",
    "                # Forward pass, calculate logit predictions.\n",
    "                # This will return the logits rather than the loss because we have\n",
    "                # not provided labels.\n",
    "                # token_type_ids is the same as the \"segment ids\", which \n",
    "                # differentiates sentence 1 and 2 in 2-sentence tasks.\n",
    "                outputs = model(\n",
    "                    input_ids=b_input_ids, \n",
    "                    attention_mask=b_input_mask\n",
    "                )\n",
    "            \n",
    "            # Get the \"logits\" output by the model. The \"logits\" are the output\n",
    "            # values prior to applying an activation function like the softmax.\n",
    "            logits = outputs[0]\n",
    "            # Move logits and labels to CPU\n",
    "            logits = logits.detach().cpu().numpy()\n",
    "            label_ids = b_labels.to('cpu').numpy()\n",
    "            # Calculate the accuracy for this batch of test sentences.\n",
    "            tmp_eval_accuracy = flat_accuracy(logits, label_ids)\n",
    "            # Accumulate the total accuracy.\n",
    "            eval_accuracy += tmp_eval_accuracy\n",
    "            # Track the number of batches\n",
    "            nb_eval_steps += 1\n",
    "\n",
    "        avg_eval_acc = eval_accuracy/nb_eval_steps\n",
    "        print(\"  * Accuracy: {0:.2f}\".format(avg_eval_acc))\n",
    "        print(\"  * Validation took: {:}\".format(format_time(time.time() - t0)))\n",
    "        eval_accs.append(avg_eval_acc)\n",
    "    print(\"Training complete!\")\n",
    "    return loss_values, eval_accs"
   ]
  },
  {
   "cell_type": "markdown",
   "metadata": {
    "id": "51t6bKJR2SbP"
   },
   "source": [
    "Finally, run the following cell to fine-tune the model"
   ]
  },
  {
   "cell_type": "code",
   "execution_count": 14,
   "metadata": {
    "id": "3k7F9xJD3pP4"
   },
   "outputs": [
    {
     "name": "stderr",
     "output_type": "stream",
     "text": [
      "Training (epoch 1): 100%|██████████| 16/16 [00:01<00:00, 15.68batch/s]\n",
      "Training (epoch 2):  12%|█▎        | 2/16 [00:00<00:00, 17.46batch/s]"
     ]
    },
    {
     "name": "stdout",
     "output_type": "stream",
     "text": [
      "  * Average training loss: 0.68\n",
      "  * Training epoch took: 0:00:01\n",
      "Running Validation...\n",
      "  * Accuracy: 0.90\n",
      "  * Validation took: 0:00:00\n"
     ]
    },
    {
     "name": "stderr",
     "output_type": "stream",
     "text": [
      "Training (epoch 2): 100%|██████████| 16/16 [00:00<00:00, 16.84batch/s]\n",
      "Training (epoch 3):  12%|█▎        | 2/16 [00:00<00:00, 16.79batch/s]"
     ]
    },
    {
     "name": "stdout",
     "output_type": "stream",
     "text": [
      "  * Average training loss: 0.40\n",
      "  * Training epoch took: 0:00:01\n",
      "Running Validation...\n",
      "  * Accuracy: 0.92\n",
      "  * Validation took: 0:00:00\n"
     ]
    },
    {
     "name": "stderr",
     "output_type": "stream",
     "text": [
      "Training (epoch 3): 100%|██████████| 16/16 [00:00<00:00, 16.06batch/s]\n"
     ]
    },
    {
     "name": "stdout",
     "output_type": "stream",
     "text": [
      "  * Average training loss: 0.22\n",
      "  * Training epoch took: 0:00:01\n",
      "Running Validation...\n",
      "  * Accuracy: 0.89\n",
      "  * Validation took: 0:00:00\n",
      "Training complete!\n"
     ]
    }
   ],
   "source": [
    "# About 2-3 seconds per epoch using GPU\n",
    "mathbert_loss_vals, mathbert_eval_accs = train_model(\n",
    "    model=mathbert,\n",
    "    epochs=3,\n",
    "    train_dataloader=bert_train_dataloader,\n",
    "    validation_dataloader=bert_validation_dataloader\n",
    ")"
   ]
  },
  {
   "cell_type": "markdown",
   "metadata": {
    "id": "e61V4DVD34Nr"
   },
   "source": [
    "Once the model is trained, we can plot some performance metrics"
   ]
  },
  {
   "cell_type": "code",
   "execution_count": 15,
   "metadata": {
    "id": "o3J-c8wQ5gDj"
   },
   "outputs": [],
   "source": [
    "\n",
    "%matplotlib inline\n",
    "import matplotlib.pyplot as plt\n",
    "import seaborn as sns\n",
    "\n",
    "def plot_loss_and_acc(loss_vals, eval_accs):\n",
    "    sns.set(style='darkgrid')\n",
    "    sns.set(font_scale=1.5)\n",
    "    plt.rcParams[\"figure.figsize\"] = (12,6)\n",
    "    fig, ax1 = plt.subplots(1,1)\n",
    "    ax1.plot(loss_vals, 'b-o', label = 'training loss')\n",
    "    ax2 = ax1.twinx()\n",
    "    ax2.plot(eval_accs, 'y-o', label = 'validation accuracy')\n",
    "    ax2.set_title(\"Training loss and validation accuracy\")\n",
    "    ax2.set_xlabel(\"Epoch\")\n",
    "    ax1.set_ylabel(\"Loss\", color='b')\n",
    "    ax2.set_ylabel(\"Accuracy\", color='y')\n",
    "    ax1.tick_params(axis='y', rotation=0, labelcolor='b' )\n",
    "    ax2.tick_params(axis='y', rotation=0, labelcolor='y' )\n",
    "    plt.show()"
   ]
  },
  {
   "cell_type": "code",
   "execution_count": 16,
   "metadata": {
    "id": "mb_XPN3A4Abj"
   },
   "outputs": [
    {
     "data": {
      "image/png": "[encoded data removed]",
      "text/plain": [
       "<Figure size 864x432 with 2 Axes>"
      ]
     },
     "metadata": {},
     "output_type": "display_data"
    }
   ],
   "source": [
    "plot_loss_and_acc(mathbert_loss_vals, mathbert_eval_accs)"
   ]
  },
  {
   "cell_type": "markdown",
   "metadata": {
    "id": "wNR3xG4yDKVx"
   },
   "source": [
    "### Question 3: Freezing the pretrained weights [0.5pts]\n",
    "\n",
    "Now, lets try training the model again, except this time we will _not_ fine-tune BERTs weights (we sometimes say these weights are \"frozen\"). To do this, we will only compute gradients for the classifiers parameters.\n",
    "\n",
    "> We can do this in pytorch by setting the `requires_grad` attribute to `False` for all parameters beside the classifiers.\n",
    "\n",
    "Run the following cells to instantiate the model and train only the classifier. Then answer the follow-up questions in the assignment handout.\n",
    "\n",
    "> __Note__: This may print a warning: _\"Some weights of the model checkpoint at...\"_ which you can ignore."
   ]
  },
  {
   "cell_type": "code",
   "execution_count": 17,
   "metadata": {
    "id": "9sPmVD0P3CyS"
   },
   "outputs": [
    {
     "name": "stderr",
     "output_type": "stream",
     "text": [
      "Some weights of the model checkpoint at tbs17/MathBERT were not used when initializing BertForSentenceClassification: ['cls.predictions.decoder.bias', 'cls.predictions.transform.LayerNorm.bias', 'cls.predictions.decoder.weight', 'cls.predictions.transform.LayerNorm.weight', 'cls.seq_relationship.bias', 'cls.predictions.bias', 'cls.seq_relationship.weight', 'cls.predictions.transform.dense.weight', 'cls.predictions.transform.dense.bias']\n",
      "- This IS expected if you are initializing BertForSentenceClassification from the checkpoint of a model trained on another task or with another architecture (e.g. initializing a BertForSequenceClassification model from a BertForPreTraining model).\n",
      "- This IS NOT expected if you are initializing BertForSentenceClassification from the checkpoint of a model that you expect to be exactly identical (initializing a BertForSequenceClassification model from a BertForSequenceClassification model).\n",
      "Some weights of BertForSentenceClassification were not initialized from the model checkpoint at tbs17/MathBERT and are newly initialized: ['bert.classifier.bias', 'bert.classifier.weight']\n",
      "You should probably TRAIN this model on a down-stream task to be able to use it for predictions and inference.\n"
     ]
    }
   ],
   "source": [
    "mathbert_frozen = BertForSentenceClassification.from_pretrained(\n",
    "    \"tbs17/MathBERT\",  # the name of the pretrained model\n",
    "    num_labels=3,      # the number of classes in our downstream task\n",
    ")"
   ]
  },
  {
   "cell_type": "code",
   "execution_count": 18,
   "metadata": {
    "id": "T-Y078xU3OGy"
   },
   "outputs": [],
   "source": [
    "for name, param in mathbert_frozen.named_parameters():\n",
    "\t# Only compute gradients for parameters of our\n",
    "\t# newly added classifier. BERT will not be trained.\n",
    "\tif 'classifier' not in name:\n",
    "\t\tparam.requires_grad = False"
   ]
  },
  {
   "cell_type": "code",
   "execution_count": 19,
   "metadata": {
    "id": "__uaGXF13jXY"
   },
   "outputs": [
    {
     "name": "stderr",
     "output_type": "stream",
     "text": [
      "Training (epoch 1): 100%|██████████| 16/16 [00:00<00:00, 70.18batch/s]\n",
      "Training (epoch 2):  50%|█████     | 8/16 [00:00<00:00, 73.40batch/s]"
     ]
    },
    {
     "name": "stdout",
     "output_type": "stream",
     "text": [
      "  * Average training loss: 1.36\n",
      "  * Training epoch took: 0:00:00\n",
      "Running Validation...\n",
      "  * Accuracy: 0.05\n",
      "  * Validation took: 0:00:00\n"
     ]
    },
    {
     "name": "stderr",
     "output_type": "stream",
     "text": [
      "Training (epoch 2): 100%|██████████| 16/16 [00:00<00:00, 73.51batch/s]\n",
      "Training (epoch 3):  50%|█████     | 8/16 [00:00<00:00, 74.68batch/s]"
     ]
    },
    {
     "name": "stdout",
     "output_type": "stream",
     "text": [
      "  * Average training loss: 1.19\n",
      "  * Training epoch took: 0:00:00\n",
      "Running Validation...\n",
      "  * Accuracy: 0.12\n",
      "  * Validation took: 0:00:00\n"
     ]
    },
    {
     "name": "stderr",
     "output_type": "stream",
     "text": [
      "Training (epoch 3): 100%|██████████| 16/16 [00:00<00:00, 73.01batch/s]\n"
     ]
    },
    {
     "name": "stdout",
     "output_type": "stream",
     "text": [
      "  * Average training loss: 1.11\n",
      "  * Training epoch took: 0:00:00\n",
      "Running Validation...\n",
      "  * Accuracy: 0.30\n",
      "  * Validation took: 0:00:00\n",
      "Training complete!\n"
     ]
    }
   ],
   "source": [
    "# About 1 second per epoch on GPU\n",
    "mathbert_frozen_loss_vals, mathbert_frozen_eval_accs = train_model(\n",
    "    model=mathbert_frozen,\n",
    "    epochs=3, \n",
    "    train_dataloader=bert_train_dataloader,\n",
    "    validation_dataloader=bert_validation_dataloader\n",
    ")"
   ]
  },
  {
   "cell_type": "code",
   "execution_count": 20,
   "metadata": {
    "id": "BPqvEsUkLfCe"
   },
   "outputs": [
    {
     "data": {
      "image/png": "[encoded data removed]",
      "text/plain": [
       "<Figure size 864x432 with 2 Axes>"
      ]
     },
     "metadata": {},
     "output_type": "display_data"
    }
   ],
   "source": [
    "plot_loss_and_acc(mathbert_frozen_loss_vals, mathbert_frozen_eval_accs)"
   ]
  },
  {
   "cell_type": "markdown",
   "metadata": {
    "id": "RmbhFHISFXAo"
   },
   "source": [
    "### Question 4: Effect of pretraining data [0.5pts]\n",
    "\n",
    "Now, let's try fine-tuning the model again, except this time we will use [BERTweets](https://arxiv.org/abs/2005.10200) pretrained weights. BERTweets uses the same architecture as BERT (and MathBERT), but has been pretrained on 100s of millions of _tweets_.\n",
    "\n",
    "Run the following cells to instantiate our model with BERTweets pretrained weights and fine-tune it. Then answer the follow-up questions in the assignment handout.\n",
    "\n",
    "> __Note__: This may print a warning: _\"You are using a model of type...\"_ which you can ignore."
   ]
  },
  {
   "cell_type": "code",
   "execution_count": 21,
   "metadata": {
    "id": "yis-plPDEmlQ"
   },
   "outputs": [
    {
     "name": "stderr",
     "output_type": "stream",
     "text": [
      "You are using a model of type roberta to instantiate a model of type bert. This is not supported for all configurations of models and can yield errors.\n",
      "Some weights of the model checkpoint at vinai/bertweet-base were not used when initializing BertForSentenceClassification: ['roberta.encoder.layer.9.attention.self.key.bias', 'roberta.encoder.layer.7.output.dense.bias', 'roberta.encoder.layer.5.intermediate.dense.bias', 'roberta.encoder.layer.3.attention.self.value.bias', 'roberta.encoder.layer.5.output.dense.bias', 'roberta.encoder.layer.4.attention.self.value.weight', 'roberta.encoder.layer.0.attention.output.dense.bias', 'roberta.encoder.layer.1.attention.self.key.weight', 'roberta.encoder.layer.7.output.LayerNorm.weight', 'roberta.encoder.layer.0.output.dense.bias', 'roberta.encoder.layer.7.attention.output.dense.bias', 'roberta.encoder.layer.5.attention.self.query.weight', 'roberta.encoder.layer.2.attention.self.key.bias', 'roberta.encoder.layer.10.attention.output.dense.weight', 'lm_head.layer_norm.bias', 'roberta.encoder.layer.10.output.dense.weight', 'roberta.encoder.layer.3.attention.self.query.bias', 'roberta.encoder.layer.10.attention.self.key.weight', 'roberta.encoder.layer.0.attention.output.LayerNorm.bias', 'roberta.encoder.layer.1.attention.self.value.weight', 'roberta.encoder.layer.2.output.dense.bias', 'roberta.embeddings.word_embeddings.weight', 'roberta.encoder.layer.3.output.dense.bias', 'roberta.encoder.layer.2.attention.output.LayerNorm.weight', 'roberta.encoder.layer.0.intermediate.dense.bias', 'roberta.encoder.layer.11.attention.self.key.bias', 'roberta.encoder.layer.9.attention.self.key.weight', 'roberta.encoder.layer.10.attention.output.LayerNorm.weight', 'roberta.encoder.layer.6.attention.self.query.weight', 'roberta.encoder.layer.11.attention.output.dense.bias', 'roberta.encoder.layer.8.attention.self.key.bias', 'roberta.encoder.layer.11.attention.output.dense.weight', 'roberta.encoder.layer.3.output.LayerNorm.bias', 'roberta.encoder.layer.5.attention.self.key.weight', 'roberta.encoder.layer.3.attention.self.value.weight', 'roberta.embeddings.LayerNorm.bias', 'roberta.encoder.layer.7.attention.output.LayerNorm.weight', 'roberta.encoder.layer.7.attention.self.value.bias', 'roberta.encoder.layer.9.attention.self.query.bias', 'roberta.encoder.layer.1.attention.self.key.bias', 'roberta.encoder.layer.1.output.dense.weight', 'roberta.encoder.layer.1.attention.output.dense.bias', 'roberta.encoder.layer.10.output.dense.bias', 'roberta.encoder.layer.10.attention.self.value.weight', 'roberta.encoder.layer.8.attention.output.dense.weight', 'roberta.encoder.layer.0.attention.self.value.weight', 'roberta.encoder.layer.3.intermediate.dense.weight', 'roberta.encoder.layer.3.output.dense.weight', 'roberta.encoder.layer.4.output.LayerNorm.bias', 'roberta.encoder.layer.5.attention.output.dense.bias', 'roberta.embeddings.LayerNorm.weight', 'roberta.encoder.layer.1.output.dense.bias', 'roberta.encoder.layer.3.output.LayerNorm.weight', 'roberta.encoder.layer.11.attention.self.key.weight', 'roberta.encoder.layer.11.attention.self.query.bias', 'roberta.encoder.layer.2.output.LayerNorm.bias', 'roberta.encoder.layer.1.intermediate.dense.bias', 'lm_head.layer_norm.weight', 'roberta.encoder.layer.4.attention.output.dense.bias', 'roberta.encoder.layer.7.attention.self.key.weight', 'roberta.embeddings.token_type_embeddings.weight', 'roberta.encoder.layer.8.attention.self.value.bias', 'roberta.encoder.layer.10.output.LayerNorm.weight', 'roberta.encoder.layer.5.attention.output.dense.weight', 'roberta.encoder.layer.5.output.dense.weight', 'roberta.encoder.layer.6.intermediate.dense.bias', 'roberta.encoder.layer.6.output.dense.bias', 'roberta.encoder.layer.9.output.dense.weight', 'roberta.encoder.layer.10.intermediate.dense.weight', 'roberta.encoder.layer.1.attention.self.value.bias', 'roberta.encoder.layer.8.attention.self.query.bias', 'roberta.encoder.layer.9.intermediate.dense.weight', 'roberta.encoder.layer.9.attention.self.value.bias', 'roberta.encoder.layer.11.output.dense.weight', 'roberta.encoder.layer.7.intermediate.dense.weight', 'roberta.encoder.layer.11.output.LayerNorm.weight', 'roberta.encoder.layer.4.attention.output.dense.weight', 'roberta.encoder.layer.9.attention.self.value.weight', 'roberta.encoder.layer.7.attention.output.dense.weight', 'roberta.encoder.layer.2.attention.self.query.weight', 'roberta.encoder.layer.10.attention.self.value.bias', 'roberta.encoder.layer.9.output.LayerNorm.bias', 'roberta.encoder.layer.10.output.LayerNorm.bias', 'roberta.encoder.layer.5.intermediate.dense.weight', 'roberta.encoder.layer.10.attention.self.key.bias', 'roberta.encoder.layer.3.attention.output.dense.weight', 'roberta.encoder.layer.0.output.LayerNorm.weight', 'roberta.encoder.layer.4.intermediate.dense.weight', 'roberta.encoder.layer.9.attention.output.LayerNorm.bias', 'roberta.encoder.layer.4.output.LayerNorm.weight', 'roberta.encoder.layer.6.attention.self.value.bias', 'roberta.encoder.layer.3.attention.self.key.weight', 'roberta.encoder.layer.2.output.dense.weight', 'roberta.encoder.layer.3.attention.output.LayerNorm.weight', 'roberta.encoder.layer.0.attention.self.query.weight', 'roberta.encoder.layer.4.intermediate.dense.bias', 'roberta.encoder.layer.6.intermediate.dense.weight', 'roberta.encoder.layer.7.attention.self.query.weight', 'roberta.encoder.layer.8.intermediate.dense.bias', 'roberta.encoder.layer.8.attention.self.value.weight', 'roberta.encoder.layer.1.output.LayerNorm.bias', 'roberta.encoder.layer.5.attention.output.LayerNorm.weight', 'roberta.encoder.layer.1.intermediate.dense.weight', 'roberta.encoder.layer.0.intermediate.dense.weight', 'roberta.encoder.layer.10.attention.self.query.weight', 'roberta.encoder.layer.5.attention.self.key.bias', 'roberta.encoder.layer.2.attention.self.key.weight', 'roberta.encoder.layer.8.attention.output.LayerNorm.weight', 'roberta.encoder.layer.0.attention.self.query.bias', 'roberta.encoder.layer.8.output.LayerNorm.bias', 'roberta.encoder.layer.11.attention.self.value.bias', 'roberta.encoder.layer.6.output.LayerNorm.weight', 'roberta.embeddings.position_embeddings.weight', 'roberta.encoder.layer.5.attention.self.value.bias', 'roberta.encoder.layer.8.attention.output.dense.bias', 'roberta.encoder.layer.1.attention.self.query.bias', 'roberta.encoder.layer.1.attention.output.LayerNorm.weight', 'roberta.encoder.layer.10.intermediate.dense.bias', 'roberta.encoder.layer.6.attention.self.value.weight', 'roberta.encoder.layer.11.intermediate.dense.weight', 'roberta.encoder.layer.5.output.LayerNorm.weight', 'lm_head.bias', 'roberta.encoder.layer.11.intermediate.dense.bias', 'roberta.encoder.layer.4.output.dense.weight', 'roberta.encoder.layer.2.output.LayerNorm.weight', 'roberta.encoder.layer.5.attention.self.value.weight', 'roberta.encoder.layer.10.attention.output.LayerNorm.bias', 'lm_head.dense.bias', 'roberta.encoder.layer.4.attention.self.key.bias', 'roberta.encoder.layer.3.intermediate.dense.bias', 'roberta.encoder.layer.1.attention.self.query.weight', 'roberta.encoder.layer.1.output.LayerNorm.weight', 'roberta.encoder.layer.3.attention.self.query.weight', 'roberta.encoder.layer.0.attention.self.key.bias', 'roberta.encoder.layer.1.attention.output.dense.weight', 'roberta.encoder.layer.2.attention.output.dense.bias', 'roberta.encoder.layer.7.attention.self.key.bias', 'roberta.encoder.layer.8.intermediate.dense.weight', 'roberta.encoder.layer.8.output.dense.weight', 'roberta.encoder.layer.8.output.dense.bias', 'roberta.encoder.layer.6.attention.output.dense.bias', 'roberta.encoder.layer.11.attention.output.LayerNorm.weight', 'roberta.encoder.layer.4.attention.self.query.weight', 'roberta.encoder.layer.11.attention.self.value.weight', 'roberta.encoder.layer.10.attention.output.dense.bias', 'roberta.encoder.layer.4.attention.self.query.bias', 'roberta.encoder.layer.2.attention.self.query.bias', 'roberta.encoder.layer.7.attention.output.LayerNorm.bias', 'roberta.encoder.layer.11.attention.self.query.weight', 'roberta.encoder.layer.6.attention.self.key.weight', 'roberta.encoder.layer.7.attention.self.value.weight', 'roberta.encoder.layer.11.output.dense.bias', 'roberta.encoder.layer.6.attention.self.key.bias', 'roberta.encoder.layer.2.attention.output.dense.weight', 'roberta.encoder.layer.4.attention.output.LayerNorm.bias', 'roberta.encoder.layer.4.output.dense.bias', 'roberta.encoder.layer.9.attention.self.query.weight', 'roberta.encoder.layer.5.attention.output.LayerNorm.bias', 'roberta.encoder.layer.9.attention.output.dense.bias', 'lm_head.decoder.weight', 'roberta.encoder.layer.9.attention.output.dense.weight', 'roberta.encoder.layer.2.intermediate.dense.bias', 'lm_head.decoder.bias', 'roberta.encoder.layer.0.output.LayerNorm.bias', 'roberta.encoder.layer.6.output.dense.weight', 'roberta.encoder.layer.4.attention.self.value.bias', 'roberta.pooler.dense.bias', 'roberta.encoder.layer.4.attention.output.LayerNorm.weight', 'roberta.encoder.layer.8.attention.self.query.weight', 'roberta.encoder.layer.7.output.dense.weight', 'roberta.encoder.layer.2.attention.self.value.weight', 'roberta.encoder.layer.0.attention.self.value.bias', 'roberta.encoder.layer.2.attention.self.value.bias', 'roberta.encoder.layer.6.attention.output.LayerNorm.bias', 'roberta.pooler.dense.weight', 'roberta.encoder.layer.6.attention.output.LayerNorm.weight', 'roberta.encoder.layer.0.output.dense.weight', 'roberta.encoder.layer.3.attention.self.key.bias', 'roberta.encoder.layer.8.attention.output.LayerNorm.bias', 'roberta.encoder.layer.4.attention.self.key.weight', 'roberta.encoder.layer.9.attention.output.LayerNorm.weight', 'roberta.encoder.layer.2.attention.output.LayerNorm.bias', 'roberta.encoder.layer.11.attention.output.LayerNorm.bias', 'roberta.encoder.layer.0.attention.output.LayerNorm.weight', 'roberta.encoder.layer.8.output.LayerNorm.weight', 'roberta.encoder.layer.5.output.LayerNorm.bias', 'roberta.embeddings.position_ids', 'roberta.encoder.layer.0.attention.output.dense.weight', 'roberta.encoder.layer.5.attention.self.query.bias', 'roberta.encoder.layer.9.output.dense.bias', 'roberta.encoder.layer.6.attention.self.query.bias', 'roberta.encoder.layer.10.attention.self.query.bias', 'roberta.encoder.layer.7.attention.self.query.bias', 'lm_head.dense.weight', 'roberta.encoder.layer.11.output.LayerNorm.bias', 'roberta.encoder.layer.1.attention.output.LayerNorm.bias', 'roberta.encoder.layer.6.attention.output.dense.weight', 'roberta.encoder.layer.9.output.LayerNorm.weight', 'roberta.encoder.layer.3.attention.output.dense.bias', 'roberta.encoder.layer.3.attention.output.LayerNorm.bias', 'roberta.encoder.layer.9.intermediate.dense.bias', 'roberta.encoder.layer.2.intermediate.dense.weight', 'roberta.encoder.layer.6.output.LayerNorm.bias', 'roberta.encoder.layer.0.attention.self.key.weight', 'roberta.encoder.layer.7.output.LayerNorm.bias', 'roberta.encoder.layer.8.attention.self.key.weight', 'roberta.encoder.layer.7.intermediate.dense.bias']\n",
      "- This IS expected if you are initializing BertForSentenceClassification from the checkpoint of a model trained on another task or with another architecture (e.g. initializing a BertForSequenceClassification model from a BertForPreTraining model).\n",
      "- This IS NOT expected if you are initializing BertForSentenceClassification from the checkpoint of a model that you expect to be exactly identical (initializing a BertForSequenceClassification model from a BertForSequenceClassification model).\n"
     ]
    },
    {
     "name": "stderr",
     "output_type": "stream",
     "text": [
      "Some weights of BertForSentenceClassification were not initialized from the model checkpoint at vinai/bertweet-base and are newly initialized: ['encoder.layer.1.output.dense.weight', 'encoder.layer.4.output.LayerNorm.weight', 'encoder.layer.3.output.dense.weight', 'encoder.layer.7.output.dense.weight', 'encoder.layer.4.output.LayerNorm.bias', 'embeddings.LayerNorm.weight', 'encoder.layer.5.output.LayerNorm.bias', 'embeddings.word_embeddings.weight', 'encoder.layer.11.attention.output.LayerNorm.weight', 'encoder.layer.1.attention.self.query.weight', 'encoder.layer.1.output.LayerNorm.weight', 'encoder.layer.8.attention.self.query.bias', 'encoder.layer.9.output.dense.weight', 'encoder.layer.0.output.dense.bias', 'encoder.layer.10.output.dense.bias', 'encoder.layer.5.attention.output.dense.weight', 'encoder.layer.0.intermediate.dense.weight', 'embeddings.position_embeddings.weight', 'encoder.layer.3.intermediate.dense.weight', 'encoder.layer.7.output.LayerNorm.bias', 'encoder.layer.9.attention.self.query.bias', 'encoder.layer.6.attention.output.LayerNorm.weight', 'encoder.layer.9.attention.self.value.weight', 'encoder.layer.2.attention.self.query.weight', 'encoder.layer.7.attention.output.dense.bias', 'encoder.layer.6.intermediate.dense.weight', 'encoder.layer.2.attention.self.key.bias', 'encoder.layer.2.attention.output.LayerNorm.weight', 'encoder.layer.6.attention.output.dense.weight', 'encoder.layer.7.output.dense.bias', 'encoder.layer.10.intermediate.dense.weight', 'encoder.layer.6.attention.output.dense.bias', 'encoder.layer.1.attention.self.value.weight', 'encoder.layer.11.output.dense.weight', 'pooler.dense.bias', 'encoder.layer.2.attention.self.query.bias', 'encoder.layer.5.attention.self.key.bias', 'encoder.layer.9.output.dense.bias', 'encoder.layer.11.intermediate.dense.bias', 'encoder.layer.11.intermediate.dense.weight', 'encoder.layer.1.attention.self.key.weight', 'encoder.layer.1.attention.output.LayerNorm.weight', 'encoder.layer.11.output.dense.bias', 'encoder.layer.4.attention.self.query.weight', 'encoder.layer.3.attention.self.query.weight', 'encoder.layer.5.attention.output.LayerNorm.bias', 'encoder.layer.6.intermediate.dense.bias', 'encoder.layer.5.output.dense.bias', 'encoder.layer.3.attention.self.value.weight', 'encoder.layer.8.attention.self.key.bias', 'encoder.layer.8.attention.output.dense.bias', 'encoder.layer.8.attention.output.LayerNorm.bias', 'encoder.layer.2.attention.self.value.weight', 'encoder.layer.0.attention.self.value.weight', 'encoder.layer.4.attention.self.key.bias', 'encoder.layer.9.attention.self.value.bias', 'encoder.layer.9.output.LayerNorm.bias', 'encoder.layer.10.attention.output.dense.weight', 'encoder.layer.6.attention.self.query.bias', 'encoder.layer.3.intermediate.dense.bias', 'encoder.layer.0.output.dense.weight', 'encoder.layer.2.attention.output.dense.weight', 'encoder.layer.4.intermediate.dense.bias', 'encoder.layer.6.attention.self.key.weight', 'encoder.layer.8.output.dense.weight', 'encoder.layer.2.attention.output.LayerNorm.bias', 'encoder.layer.10.intermediate.dense.bias', 'encoder.layer.0.attention.self.query.weight', 'encoder.layer.8.intermediate.dense.weight', 'encoder.layer.3.attention.output.LayerNorm.bias', 'encoder.layer.10.attention.self.key.weight', 'encoder.layer.5.intermediate.dense.weight', 'encoder.layer.11.attention.self.value.bias', 'encoder.layer.11.attention.self.key.weight', 'classifier.bias', 'encoder.layer.7.attention.output.LayerNorm.weight', 'encoder.layer.0.attention.self.query.bias', 'encoder.layer.3.output.LayerNorm.weight', 'encoder.layer.11.attention.self.value.weight', 'encoder.layer.7.attention.self.value.weight', 'encoder.layer.3.output.LayerNorm.bias', 'encoder.layer.10.output.LayerNorm.weight', 'encoder.layer.7.attention.output.dense.weight', 'encoder.layer.4.attention.output.dense.bias', 'encoder.layer.7.intermediate.dense.bias', 'encoder.layer.5.output.LayerNorm.weight', 'encoder.layer.6.attention.self.key.bias', 'encoder.layer.2.attention.self.key.weight', 'encoder.layer.3.attention.output.dense.bias', 'encoder.layer.7.attention.self.value.bias', 'encoder.layer.1.attention.self.query.bias', 'encoder.layer.5.attention.self.key.weight', 'encoder.layer.6.output.LayerNorm.bias', 'encoder.layer.8.attention.self.query.weight', 'encoder.layer.0.attention.output.dense.bias', 'encoder.layer.9.intermediate.dense.weight', 'encoder.layer.9.output.LayerNorm.weight', 'encoder.layer.4.attention.self.query.bias', 'encoder.layer.8.intermediate.dense.bias', 'encoder.layer.3.attention.self.key.weight', 'encoder.layer.0.intermediate.dense.bias', 'encoder.layer.2.output.LayerNorm.weight', 'encoder.layer.5.intermediate.dense.bias', 'encoder.layer.2.output.dense.weight', 'encoder.layer.8.attention.self.value.weight', 'encoder.layer.0.attention.self.key.bias', 'encoder.layer.8.attention.output.dense.weight', 'encoder.layer.1.output.LayerNorm.bias', 'encoder.layer.5.attention.self.query.weight', 'encoder.layer.9.intermediate.dense.bias', 'encoder.layer.5.output.dense.weight', 'encoder.layer.1.attention.output.dense.weight', 'encoder.layer.5.attention.self.value.weight', 'encoder.layer.0.attention.output.LayerNorm.weight', 'encoder.layer.7.attention.output.LayerNorm.bias', 'encoder.layer.0.attention.self.key.weight', 'encoder.layer.7.attention.self.query.weight', 'encoder.layer.4.output.dense.bias', 'encoder.layer.4.output.dense.weight', 'encoder.layer.5.attention.self.query.bias', 'encoder.layer.9.attention.self.key.weight', 'classifier.weight', 'encoder.layer.9.attention.output.dense.weight', 'encoder.layer.10.attention.self.key.bias', 'encoder.layer.1.attention.output.dense.bias', 'encoder.layer.8.output.LayerNorm.weight', 'encoder.layer.10.attention.output.dense.bias', 'embeddings.LayerNorm.bias', 'encoder.layer.3.attention.output.dense.weight', 'encoder.layer.5.attention.output.dense.bias', 'encoder.layer.11.attention.output.dense.weight', 'encoder.layer.11.output.LayerNorm.weight', 'encoder.layer.5.attention.output.LayerNorm.weight', 'encoder.layer.5.attention.self.value.bias', 'encoder.layer.10.attention.self.query.bias', 'encoder.layer.0.attention.output.dense.weight', 'encoder.layer.10.output.dense.weight', 'encoder.layer.9.attention.output.LayerNorm.weight', 'encoder.layer.2.output.LayerNorm.bias', 'encoder.layer.7.intermediate.dense.weight', 'encoder.layer.4.attention.output.LayerNorm.weight', 'encoder.layer.7.output.LayerNorm.weight', 'encoder.layer.11.attention.self.key.bias', 'encoder.layer.0.output.LayerNorm.bias', 'encoder.layer.2.intermediate.dense.bias', 'encoder.layer.9.attention.self.query.weight', 'encoder.layer.4.intermediate.dense.weight', 'encoder.layer.0.attention.self.value.bias', 'encoder.layer.0.output.LayerNorm.weight', 'encoder.layer.6.attention.self.query.weight', 'encoder.layer.11.attention.output.LayerNorm.bias', 'encoder.layer.8.output.LayerNorm.bias', 'encoder.layer.6.output.LayerNorm.weight', 'encoder.layer.1.intermediate.dense.weight', 'encoder.layer.2.attention.self.value.bias', 'encoder.layer.8.attention.self.key.weight', 'encoder.layer.10.attention.self.value.weight', 'embeddings.token_type_embeddings.weight', 'encoder.layer.4.attention.self.key.weight', 'encoder.layer.11.attention.self.query.bias', 'encoder.layer.2.output.dense.bias', 'encoder.layer.3.attention.self.key.bias', 'encoder.layer.7.attention.self.key.weight', 'encoder.layer.1.output.dense.bias', 'encoder.layer.8.attention.output.LayerNorm.weight', 'encoder.layer.0.attention.output.LayerNorm.bias', 'encoder.layer.9.attention.output.LayerNorm.bias', 'encoder.layer.10.attention.self.query.weight', 'encoder.layer.3.attention.self.value.bias', 'encoder.layer.2.attention.output.dense.bias', 'encoder.layer.3.output.dense.bias', 'encoder.layer.1.attention.self.key.bias', 'encoder.layer.10.attention.output.LayerNorm.weight', 'encoder.layer.3.attention.self.query.bias', 'encoder.layer.4.attention.output.LayerNorm.bias', 'encoder.layer.10.attention.output.LayerNorm.bias', 'encoder.layer.7.attention.self.key.bias', 'encoder.layer.11.output.LayerNorm.bias', 'encoder.layer.9.attention.self.key.bias', 'encoder.layer.6.attention.output.LayerNorm.bias', 'encoder.layer.7.attention.self.query.bias', 'encoder.layer.6.attention.self.value.weight', 'encoder.layer.1.attention.output.LayerNorm.bias', 'encoder.layer.1.intermediate.dense.bias', 'encoder.layer.10.attention.self.value.bias', 'encoder.layer.4.attention.self.value.bias', 'encoder.layer.4.attention.output.dense.weight', 'encoder.layer.6.attention.self.value.bias', 'encoder.layer.2.intermediate.dense.weight', 'encoder.layer.9.attention.output.dense.bias', 'encoder.layer.6.output.dense.weight', 'pooler.dense.weight', 'encoder.layer.11.attention.output.dense.bias', 'encoder.layer.8.output.dense.bias', 'encoder.layer.3.attention.output.LayerNorm.weight', 'encoder.layer.6.output.dense.bias', 'encoder.layer.8.attention.self.value.bias', 'encoder.layer.4.attention.self.value.weight', 'encoder.layer.1.attention.self.value.bias', 'encoder.layer.10.output.LayerNorm.bias', 'encoder.layer.11.attention.self.query.weight']\n",
      "You should probably TRAIN this model on a down-stream task to be able to use it for predictions and inference.\n"
     ]
    }
   ],
   "source": [
    "bertweet = BertForSentenceClassification.from_pretrained(\n",
    "    \"vinai/bertweet-base\",  # the name of the pretrained model\n",
    "    num_labels=3,           # the number of classes in our downstream task\n",
    ")"
   ]
  },
  {
   "cell_type": "markdown",
   "metadata": {
    "id": "EkOZiBbi1igb"
   },
   "source": [
    "BERTweets has its own tokenizer, so we have to repeat the data loading process"
   ]
  },
  {
   "cell_type": "code",
   "execution_count": 22,
   "metadata": {
    "id": "kc1KjBbZa7GN"
   },
   "outputs": [
    {
     "name": "stderr",
     "output_type": "stream",
     "text": [
      "emoji is not installed, thus not converting emoticons or emojis into text. Please install emoji: pip3 install emoji\n",
      "Special tokens have been added in the vocabulary, make sure the associated word embeddings are fine-tuned or trained.\n"
     ]
    },
    {
     "name": "stdout",
     "output_type": "stream",
     "text": [
      "example train_input:     tensor([    0, 57641, 12309, 15103,     2,     1,     1])\n",
      "example attention_mask:  tensor([1, 1, 1, 1, 1, 0, 0])\n"
     ]
    }
   ],
   "source": [
    "from transformers import AutoTokenizer\n",
    "\n",
    "bertweet_tokenizer = AutoTokenizer.from_pretrained('vinai/bertweet-base', do_lower_case=True)\n",
    "\n",
    "tokenized_inputs = bertweet_tokenizer(\n",
    "    inputs.tolist(),\n",
    "    add_special_tokens=True,\n",
    "    padding='max_length',\n",
    "    max_length=MAX_LEN,\n",
    "    return_tensors='pt',\n",
    ")\n",
    "\n",
    "bert_train_dataloader, bert_validation_dataloader = train_valid_split(\n",
    "    input_ids=tokenized_inputs['input_ids'],\n",
    "    attention_masks=tokenized_inputs['attention_mask'],\n",
    "    labels=labels,\n",
    "    batch_size=32\n",
    ")"
   ]
  },
  {
   "cell_type": "code",
   "execution_count": 23,
   "metadata": {
    "id": "kCLobx6UFFe7"
   },
   "outputs": [
    {
     "name": "stderr",
     "output_type": "stream",
     "text": [
      "Training (epoch 1): 100%|██████████| 16/16 [00:01<00:00, 15.88batch/s]\n",
      "Training (epoch 2):  12%|█▎        | 2/16 [00:00<00:00, 16.56batch/s]"
     ]
    },
    {
     "name": "stdout",
     "output_type": "stream",
     "text": [
      "  * Average training loss: 0.68\n",
      "  * Training epoch took: 0:00:01\n",
      "Running Validation...\n",
      "  * Accuracy: 0.73\n",
      "  * Validation took: 0:00:00\n"
     ]
    },
    {
     "name": "stderr",
     "output_type": "stream",
     "text": [
      "Training (epoch 2): 100%|██████████| 16/16 [00:01<00:00, 15.70batch/s]\n",
      "Training (epoch 3):  12%|█▎        | 2/16 [00:00<00:00, 16.42batch/s]"
     ]
    },
    {
     "name": "stdout",
     "output_type": "stream",
     "text": [
      "  * Average training loss: 0.47\n",
      "  * Training epoch took: 0:00:01\n",
      "Running Validation...\n",
      "  * Accuracy: 0.75\n",
      "  * Validation took: 0:00:00\n"
     ]
    },
    {
     "name": "stderr",
     "output_type": "stream",
     "text": [
      "Training (epoch 3): 100%|██████████| 16/16 [00:01<00:00, 14.92batch/s]\n"
     ]
    },
    {
     "name": "stdout",
     "output_type": "stream",
     "text": [
      "  * Average training loss: 0.45\n",
      "  * Training epoch took: 0:00:01\n",
      "Running Validation...\n",
      "  * Accuracy: 0.74\n",
      "  * Validation took: 0:00:00\n",
      "Training complete!\n"
     ]
    }
   ],
   "source": [
    "# About 2-3 seconds per epoch on GPU\n",
    "bertweet_loss_vals, bertweet__eval_accs = train_model(\n",
    "    model=bertweet,\n",
    "    epochs=3, \n",
    "    train_dataloader=bert_train_dataloader,\n",
    "    validation_dataloader=bert_validation_dataloader\n",
    ")"
   ]
  },
  {
   "cell_type": "code",
   "execution_count": 24,
   "metadata": {
    "id": "4llKiw---Mil"
   },
   "outputs": [
    {
     "data": {
      "image/png": "[encoded data removed]",
      "text/plain": [
       "<Figure size 864x432 with 2 Axes>"
      ]
     },
     "metadata": {},
     "output_type": "display_data"
    }
   ],
   "source": [
    "plot_loss_and_acc(bertweet_loss_vals, bertweet__eval_accs)"
   ]
  },
  {
   "cell_type": "markdown",
   "metadata": {
    "id": "RAFzVhML8mru"
   },
   "source": [
    "### Question 5: Inspect models predictions [0pts]\n",
    "\n",
    "In the following cell, we have provided a function that allows you to inspect the models predictions. Given an input, e.g. `\"three minus two minus two\"`, it will return a trained models prediction i.e. `\"negative\"`, `\"zero\"`, or `\"positive\"`.\n",
    "\n",
    "Compare the performance of `mathbert`, `mathbert_frozen` and `bertweet`. Try a few unseen examples of arithmetic questions using all models. Can you find examples where one model clearly outperforms the others? Can you find examples where all models perform poorly?"
   ]
  },
  {
   "cell_type": "code",
   "execution_count": 25,
   "metadata": {
    "id": "MfHnZz-p-rTd"
   },
   "outputs": [],
   "source": [
    "def what_is(input, model, tokenizer):\n",
    "    # Use GPU, if available\n",
    "    device = torch.device(\"cuda\" if torch.cuda.is_available() else \"cpu\")\n",
    "    model = model.to(device)\n",
    "\n",
    "    # Get map of human readable outputs\n",
    "    index_to_sentiment_map = {0: \"negative\", 1: \"zero\", 2: \"positive\"}\n",
    "    \n",
    "    tokenized_inputs = tokenizer(\n",
    "        input,                    # Input text\n",
    "        add_special_tokens=True,  # add '[CLS]' and '[SEP]'\n",
    "        padding='max_length',     # pad to a length specified by the max_length\n",
    "        max_length=MAX_LEN,       # truncate all sentences longer than max_length\n",
    "        return_tensors='pt',      # return everything we need as PyTorch tensors\n",
    "    )\n",
    "\n",
    "    input_ids = tokenized_inputs['input_ids'].to(device)\n",
    "    attention_masks = tokenized_inputs['attention_mask'].to(device)\n",
    "\n",
    "    with torch.no_grad():\n",
    "        outputs = model(input_ids=input_ids, attention_mask=attention_masks)\n",
    "        logits = outputs[0]\n",
    "        logits = logits.detach().cpu().numpy()\n",
    "        print(index_to_sentiment_map[np.argmax(logits, axis=1)[0]])"
   ]
  },
  {
   "cell_type": "code",
   "execution_count": 26,
   "metadata": {
    "id": "RCOApgNFK0q3"
   },
   "outputs": [
    {
     "name": "stdout",
     "output_type": "stream",
     "text": [
      "negative\n"
     ]
    }
   ],
   "source": [
    "what_is(\"three minus five\", model=mathbert, tokenizer=bert_tokenizer)"
   ]
  },
  {
   "cell_type": "code",
   "execution_count": 27,
   "metadata": {
    "id": "-CzHCK4qAzo_"
   },
   "outputs": [
    {
     "name": "stdout",
     "output_type": "stream",
     "text": [
      "zero\n"
     ]
    }
   ],
   "source": [
    "what_is(\"three minus five\", model=mathbert_frozen, tokenizer=bert_tokenizer)"
   ]
  },
  {
   "cell_type": "code",
   "execution_count": 28,
   "metadata": {
    "id": "Wbr2Rm9pAuP7"
   },
   "outputs": [
    {
     "name": "stdout",
     "output_type": "stream",
     "text": [
      "positive\n"
     ]
    }
   ],
   "source": [
    "what_is(\"three minus five\", model=bertweet, tokenizer=bert_tokenizer)"
   ]
  },
  {
   "cell_type": "code",
   "execution_count": null,
   "metadata": {},
   "outputs": [],
   "source": []
  },
  {
   "cell_type": "code",
   "execution_count": null,
   "metadata": {},
   "outputs": [],
   "source": []
  }
 ],
 "metadata": {
  "accelerator": "GPU",
  "colab": {
   "collapsed_sections": [
    "_Y6A-bYtNNnd",
    "l47jS3ifQJz3",
    "oyNFphizgCiM",
    "4RenfgCJg4Fi",
    "pkWOVuJohI3q",
    "PrvaiOR2hAEH",
    "wCMCg2B-xHZU",
    "jkp-UJdO0xbF",
    "YmeBvaXY2Mcm",
    "wNR3xG4yDKVx",
    "RmbhFHISFXAo",
    "RAFzVhML8mru"
   ],
   "name": "bert.ipynb",
   "provenance": []
  },
  "kernelspec": {
   "display_name": "Python 3",
   "language": "python",
   "name": "python3"
  },
  "language_info": {
   "codemirror_mode": {
    "name": "ipython",
    "version": 3
   },
   "file_extension": ".py",
   "mimetype": "text/x-python",
   "name": "python",
   "nbconvert_exporter": "python",
   "pygments_lexer": "ipython3",
   "version": "3.7.10"
  }
 },
 "nbformat": 4,
 "nbformat_minor": 1
}
